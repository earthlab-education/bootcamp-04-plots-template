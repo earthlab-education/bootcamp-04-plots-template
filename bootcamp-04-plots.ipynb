{
 "cells": [
  {
   "cell_type": "markdown",
   "metadata": {},
   "source": [
    "<img style=\"float: left;\" src=\"earth-lab-logo-rgb.png\" width=\"150\" height=\"150\" />\n",
    "\n",
    "# Earth Analytics Education"
   ]
  },
  {
   "cell_type": "markdown",
   "metadata": {},
   "source": [
    "## Important  - Assignment Guidelines\n",
    "\n",
    "1. Before you submit your assignment to GitHub, make sure to run the entire notebook with a fresh kernel. To do this first, **restart the kernel** (in the menubar, select Kernel$\\rightarrow$Restart & Run All)\n",
    "2. Always replace the `raise NotImplementedError()` code with your code that addresses the activity challenge. If you don't replace that code, your notebook will not run.\n",
    "\n",
    "```\n",
    "# YOUR CODE HERE\n",
    "raise NotImplementedError()\n",
    "```\n",
    "\n",
    "3. Any open ended questions will have a \"YOUR ANSWER HERE\" within a markdown cell. Replace that text with your answer also formatted using Markdown.\n",
    "4. **DO NOT RENAME THIS NOTEBOOK File!** If the file name changes, the autograder will not grade your assignment properly.\n",
    "\n",
    "* Only include the package imports, code, and outputs that are required to run your homework assignment.\n",
    "* Be sure that your code can be run on any operating system. This means that:\n",
    "   1. the data should be downloaded in the notebook to ensure it's reproducible\n",
    "   2. all paths should be created dynamically using the `os.path.join`\n",
    "   3. sort lists of dated files even if they are sorted correctly by default on your machine\n",
    "\n",
    "## Follow to PEP 8 Syntax Guidelines & Documentation\n",
    "\n",
    "* Run the `autopep8` tool on all cells prior to submitting (HINT: hit shift + the tool to run it on all cells at once!\n",
    "* Use clear and expressive names for variables. \n",
    "* Organize your code to support readability.\n",
    "* Check for code line length\n",
    "* Use comments and white space sparingly where it is needed\n",
    "* Make sure all python imports are at the top of your notebook and follow PEP 8 order conventions\n",
    "* Spell check your Notebook before submitting it.\n",
    "\n",
    "For all of the plots below, be sure to do the following:\n",
    "\n",
    "* Make sure each plot has a clear TITLE and, where appropriate, label the x and y axes. Be sure to include UNITS in your labels.\n"
   ]
  },
  {
   "cell_type": "markdown",
   "metadata": {},
   "source": [
    "### Add Your Name Below \n",
    "**Your Name:**"
   ]
  },
  {
   "cell_type": "markdown",
   "metadata": {},
   "source": [
    "<img style=\"float: left;\" src=\"colored-bar.png\"/>"
   ]
  },
  {
   "cell_type": "markdown",
   "metadata": {},
   "source": [
    "---"
   ]
  },
  {
   "cell_type": "markdown",
   "metadata": {
    "deletable": false,
    "editable": false,
    "nbgrader": {
     "cell_type": "markdown",
     "checksum": "8adb86040e1ac0e0b102e812e18e844e",
     "grade": false,
     "grade_id": "hw-instructions",
     "locked": true,
     "schema_version": 3,
     "solution": false
    }
   },
   "source": [
    "# Assignment 4: Plotting in Python\n",
    "\n",
    "To complete assignment 4, be sure you have reviewed Chapter 1 from the <a href=\"https://www.earthdatascience.org/courses/scientists-guide-to-plotting-data-in-python/\" target=\"_blank\">Scientist's Guide to Plotting Data in Python</a> online textbook, which introduces plotting in Python using matplotlib.   \n",
    "\n",
    "**Read the instructions for each question carefully to successfully complete the required tasks.**\n",
    "\n",
    "\n",
    "## PEP 8 Syntax and Clean Code\n",
    "\n",
    "Be sure to follow PEP 8 syntax guidelines as your write your code. These guidelines include the following:\n",
    "* Use clear and expressive variable names\n",
    "* Organize your code to support readability\n",
    "* Follow PEP 8 standards for code line length and spacing \n",
    "* Use comments sparingly to document important steps in your code\n",
    "* Finally, use the `autopep8` tool as a check to apply PEP 8 syntax throughout your notebook (note that `autopep8` is not available on Google Colab, so you will need to either check manually or run the tool on your computer)\n",
    "\n",
    "IMPORTANT: the `autopep8` tool will not fix all PEP 8 syntax issues but it \n",
    "will fix many of them. Be sure to double check your code prior to submitting\n",
    "it!\n",
    "\n",
    "If you need a reminder about what PEP 8 is, read our <a href=\"https://www.earthdatascience.org/courses/intro-to-earth-data-science/write-clean-expressive-code/intro-to-clean-code/python-pep-8-style-guide/\" target=\"_blank\">online textbook page on PEP 8 </a>."
   ]
  },
  {
   "cell_type": "markdown",
   "metadata": {
    "deletable": false,
    "editable": false,
    "nbgrader": {
     "cell_type": "markdown",
     "checksum": "094958ea5a9ba00d13661e979b82fa7a",
     "grade": false,
     "grade_id": "cell-602e942c6bc3c378",
     "locked": true,
     "points": 7,
     "schema_version": 3,
     "solution": false,
     "task": true
    }
   },
   "source": [
    "## Fire Occurrence Data\n",
    "\n",
    "### Data formats\n",
    "For this assignment, you will use summarized data on fire occurrence in California from 2000 to 2018 provided by <a href=\"https://www.fs.usda.gov/rds/archive/Catalog/RDS-2013-0009.5\" target=\"_blank\">the United States Forest Service</a>. These data show the total number of annual fires and the mean size.\n",
    "\n",
    "Go to the <a href=\"https://www.fs.usda.gov/rds/archive/Catalog/RDS-2013-0009.5\" target=\"_blank\">the United States Forest Service data catalog page</a>. In the cell below, name each of the formats the data are available in, and whether or not they are open formats **in a bulleted list**.\n"
   ]
  },
  {
   "cell_type": "markdown",
   "metadata": {
    "deletable": false,
    "editable": false,
    "nbgrader": {
     "cell_type": "markdown",
     "checksum": "a3b920acab06dfd9bb07f6846052cb9a",
     "grade": false,
     "grade_id": "cell-ecdc293690173dbb",
     "locked": true,
     "points": 2,
     "schema_version": 3,
     "solution": false,
     "task": true
    }
   },
   "source": [
    "### Find the data url\n",
    "\n",
    "You will use the `.sqlite` data format in this assignment. Right click on the link for the `.sqlite` data and paste it in the following cell **without any formatting**.\n"
   ]
  },
  {
   "cell_type": "markdown",
   "metadata": {},
   "source": []
  },
  {
   "cell_type": "markdown",
   "metadata": {
    "deletable": false,
    "editable": false,
    "nbgrader": {
     "cell_type": "markdown",
     "checksum": "24e121fca2f8fabc1ddaedf8a0c33edd",
     "grade": false,
     "grade_id": "cell-65696c097a7b7d75",
     "locked": true,
     "points": 2,
     "schema_version": 3,
     "solution": false,
     "task": true
    }
   },
   "source": [
    "### Find the data table name\n",
    "\n",
    "**Databases** like the .sqlite file you will download are structured as a collection of **tables**, where a table is equivalent to a pandas DataFrame. Table names are case-insensitive. To find the correct table name:\n",
    "      1. Click on the metadata site from the data catalog page\n",
    "      2. Navigate to the 'Entity and Attribute Information' section\n",
    "      3. Find the name of the \"**Table including wildfire data for the period of 1992-2018 compiled from US federal, state, and local reporting systems.**\"\n",
    "      \n",
    "**Put the table name in the cell below** \n"
   ]
  },
  {
   "cell_type": "markdown",
   "metadata": {},
   "source": [
    "YOUR ANSWER HERE"
   ]
  },
  {
   "cell_type": "markdown",
   "metadata": {
    "deletable": false,
    "editable": false,
    "nbgrader": {
     "cell_type": "markdown",
     "checksum": "ee27c68693a42a0e939b12b4a6f6c8e2",
     "grade": false,
     "grade_id": "cell-6a6bb584e3dcfd5e",
     "locked": true,
     "points": 1,
     "schema_version": 3,
     "solution": false,
     "task": true
    }
   },
   "source": [
    "### Cite the data\n",
    "It is important to properly cite your data. Many datasets contain a recommended citation, including this one. Locate the recommended citation on the data catalog page, and copy it into the cell below.\n"
   ]
  },
  {
   "cell_type": "markdown",
   "metadata": {},
   "source": [
    "YOUR ANSWER HERE"
   ]
  },
  {
   "cell_type": "markdown",
   "metadata": {
    "deletable": false,
    "editable": false,
    "nbgrader": {
     "cell_type": "markdown",
     "checksum": "ceb8af3dc6e8a869a8efa54692b3328e",
     "grade": false,
     "grade_id": "question-student-imports",
     "locked": true,
     "schema_version": 3,
     "solution": false
    }
   },
   "source": [
    "## Import Python Packages\n",
    "\n",
    "In the cell below, replace `raise NotImplementedError()` with your code to\n",
    "\n",
    "1. import a package and module needed to create plots.\n",
    "also import the following packages:\n",
    "2. import the os package: `import os` \n",
    "3. import pandas: `import pandas as pd`\n",
    "4. import earthpy: `import earthpy as et`\n",
    "\n",
    "The test below will check to see that you imported os and pandas."
   ]
  },
  {
   "cell_type": "code",
   "execution_count": null,
   "metadata": {
    "deletable": false,
    "nbgrader": {
     "cell_type": "code",
     "checksum": "20489880accefdb27a2f10ca8cc97835",
     "grade": false,
     "grade_id": "student-imports-answer",
     "locked": false,
     "schema_version": 3,
     "solution": true,
     "task": false
    }
   },
   "outputs": [],
   "source": [
    "# YOUR CODE HERE\n",
    "raise NotImplementedError()"
   ]
  },
  {
   "cell_type": "code",
   "execution_count": null,
   "metadata": {
    "deletable": false,
    "editable": false,
    "nbgrader": {
     "cell_type": "code",
     "checksum": "b708dbf978c3556b7f56188d5afd7327",
     "grade": true,
     "grade_id": "cell-5a9fbb51cd646600",
     "locked": true,
     "points": 4,
     "schema_version": 3,
     "solution": false,
     "task": false
    }
   },
   "outputs": [],
   "source": [
    "# DO NOT MODIFY THIS CELL\n",
    "# This cell will ensure that you imported the packages correctly\n",
    "\n",
    "# Creating total points\n",
    "import_answer_points = 0\n",
    "# test that both modules imported - use duck typing\n",
    "try:\n",
    "    pd.NA\n",
    "    print(\"\\u2705 Score! Pandas has been imported as a pd!\")\n",
    "    import_answer_points += 1\n",
    "except NameError:\n",
    "    print((\"\\u274C Pandas has not been imported as a pd, please make sure \"\n",
    "           \"to import is properly.\"))\n",
    "\n",
    "try:\n",
    "    plt.show()\n",
    "    print(\"\\u2705 Nice! matplotlib.pyplot has been imported as plt!\")\n",
    "    import_answer_points += 1\n",
    "except NameError:\n",
    "    print((\"\\u274C matplotlib.pyplot has not been imported as plt, please \"\n",
    "           \"make sure to import is properly.\"))\n",
    "    \n",
    "try:\n",
    "    os.getcwd()\n",
    "    print(\"\\u2705 Great work! The os module has imported correctly!\")\n",
    "    import_answer_points += 1\n",
    "except NameError:\n",
    "    print(\"\\u274C Oops make sure that the os package is imported.\")\n",
    "    \n",
    "try:\n",
    "    data = et.io\n",
    "    print(\"\\u2705 Great work! The earthpy package has imported correctly!\")\n",
    "    import_answer_points += 1\n",
    "except NameError:\n",
    "    print(\"\\u274C Oops make sure that the earthpy package using the alias et.\")\n",
    "\n",
    "print(\"You recieved {} out of 4 points.\".format(import_answer_points))\n",
    "import_answer_points\n"
   ]
  },
  {
   "cell_type": "markdown",
   "metadata": {
    "deletable": false,
    "editable": false,
    "nbgrader": {
     "cell_type": "markdown",
     "checksum": "453ef5b199135a1b53d0171206190972",
     "grade": false,
     "grade_id": "question-calc-variables",
     "locked": true,
     "points": 2,
     "schema_version": 3,
     "solution": false,
     "task": true
    }
   },
   "source": [
    "## Open the fire data as a pandas DataFrame\n",
    "You need to load the data into Python before you can use it.\n",
    "\n",
    "### Download the fire Data\n",
    "\n",
    "You can download file needed to complete this task using the earthpy package as follows:\n",
    "\n",
    "`et.data.get_data(url=\"url-here\")`\n",
    "\n",
    "by default earthpy will:\n",
    "\n",
    "  * create an `~/earth-analytics/data` directory in your home directory that you will use to process your data all semester.\n",
    "  * Download the data and unzip (if it's compressed) into an `~/earth-analytics/data/earthpy-downloads/` directory.\n",
    "\n",
    "In the cell below, download the data using the `.sqlite` url you found above. **Replace url-here with the url you pasted above**. Remember that your line length must be less than 80 characters in Python - check out the PEP 8 standard for ideas of how to do this while following the style guide.\n",
    "\n",
    "Notice that the first time you run the download, it takes longer than subsequent times, even if you close jupyter notebook and reopen it. That's because earthpy is handling something called **caching** for you. If you've already downloaded the data, then earthpy doesn't bother to download it a second time. **Caching** is a key application for **conditionals** in Python.\n",
    "\n",
    "Make sure to follow the PEP 8 standard and add descriptive comments.\n"
   ]
  },
  {
   "cell_type": "code",
   "execution_count": null,
   "metadata": {
    "deletable": false,
    "nbgrader": {
     "cell_type": "code",
     "checksum": "e0086a8253264e68dc5fbd095d44ab2a",
     "grade": false,
     "grade_id": "student-download-sqlite",
     "locked": false,
     "schema_version": 3,
     "solution": true,
     "task": false
    }
   },
   "outputs": [],
   "source": [
    "# YOUR CODE HERE\n",
    "raise NotImplementedError()"
   ]
  },
  {
   "cell_type": "code",
   "execution_count": null,
   "metadata": {
    "deletable": false,
    "editable": false,
    "nbgrader": {
     "cell_type": "code",
     "checksum": "4d835fab854bfaf7e5e169024a792061",
     "grade": true,
     "grade_id": "cell-5997b6948498c372",
     "locked": true,
     "points": 2,
     "schema_version": 3,
     "solution": false,
     "task": false
    }
   },
   "outputs": [],
   "source": [
    "download_sqlite_pts = 0\n",
    "\n",
    "download_path = os.path.join(\n",
    "    et.io.HOME, 'earth-analytics', 'data', 'earthpy-downloads',\n",
    "    'RDS-2013-0009.5_SQLITE', 'Data', 'FPA_FOD_20210617.sqlite')\n",
    "\n",
    "if os.path.exists(download_path):\n",
    "    print(\"\\u2705 Nice work! You downloaded the .sqlite file!\")\n",
    "    download_sqlite_pts += 2\n",
    "else:\n",
    "    print((\"\\u274C Check your url - your file didn't download as expected.\"))\n",
    "    \n",
    "download_sqlite_pts"
   ]
  },
  {
   "cell_type": "markdown",
   "metadata": {
    "deletable": false,
    "editable": false,
    "nbgrader": {
     "cell_type": "markdown",
     "checksum": "fc66c379353616c9b79186d1e43e8d28",
     "grade": false,
     "grade_id": "task-setwd",
     "locked": true,
     "points": 2,
     "schema_version": 3,
     "solution": false,
     "task": true
    }
   },
   "source": [
    "### Set your working directory\n",
    "1.  Set your working directory to the `earth-analytics/data` directory using the following syntax:\n",
    "\n",
    "    `os.chdir(os.path.join(et.io.HOME, 'earth-analytics', 'data'))`\n",
    "\n",
    "    > `os.path.join` is a function that will allow you to create file paths that can run on any machine (mac, windows or Linux). It is a good practice to use this when creating file paths in `Python`. \n",
    "\n",
    "2. Using the `ls` command in your terminal to find the path to the file you downloaded.\n",
    "    \n",
    "    > BONUS: look up how to use the `find` command to list files in the `earth-analytics/data` directory recursively. \n",
    "\n",
    "3. Use `os.path.join` again to define a variable that contains the **relative** path to your downloaded and unzipped file.\n",
    "\n",
    "    > An **absolute** path starts from the root directory `/`, while a **relative** path starts from your current working directory. Since you ran `os.chdir()`, your current working is `/~/earth-analytics/data` and your relative paths will start from there.\n",
    "\n",
    "4. At the end of the cell, call the variable like to ensure that the output prints in your notebook. The last line of your cell should look something like this:\n",
    "\n",
    "    `path_variable_name`\n",
    "    \n",
    "The code will look something like the example below (except your **variable names** will be more expressive, and you will include **descriptive comments**! Don't forget to also replace the path to the `.sqlite` file and the table name):\n",
    "\n",
    "```python\n",
    "# Comment here\n",
    "os.chdir(os.path.join(et.io.HOME, 'earth-analytics', 'data'))\n",
    "\n",
    "# Comment here\n",
    "pth = os.path.join(\"earthpy-downloads\", \"path\", \"to\", \"downloaded.sqlite\")\n",
    "\n",
    "pth\n",
    "```\n",
    "\n",
    "**IMPORTANT: At the end of your cell below be sure to call the name of your path variable\n",
    "so that the path prints in your notebook. If you don't do this, the test below\n",
    "will fail.**\n",
    "\n",
    "Make sure to follow the PEP 8 standard and add descriptive comments.\n"
   ]
  },
  {
   "cell_type": "code",
   "execution_count": null,
   "metadata": {
    "deletable": false,
    "nbgrader": {
     "cell_type": "code",
     "checksum": "3c358d7529f3e29c0e0f430c32b03f1f",
     "grade": false,
     "grade_id": "student-setwd",
     "locked": false,
     "schema_version": 3,
     "solution": true,
     "task": false
    }
   },
   "outputs": [],
   "source": [
    "# YOUR CODE HERE\n",
    "raise NotImplementedError()"
   ]
  },
  {
   "cell_type": "code",
   "execution_count": null,
   "metadata": {
    "deletable": false,
    "editable": false,
    "nbgrader": {
     "cell_type": "code",
     "checksum": "4756e8847a5b0ec7b9d4eee9f7ae99ff",
     "grade": true,
     "grade_id": "tests-setwd",
     "locked": true,
     "points": 2,
     "schema_version": 3,
     "solution": false,
     "task": false
    }
   },
   "outputs": [],
   "source": [
    "student_path = _\n",
    "path_pts = 0\n",
    "\n",
    "path_ans = (\n",
    "    'earthpy-downloads/RDS-2013-0009.5_SQLITE/Data/FPA_FOD_20210617.sqlite')\n",
    "\n",
    "if student_path == path_ans:\n",
    "    path_pts += 1\n",
    "    print(\"\\u2705 Nice work! You located your file correctly!\")\n",
    "else:\n",
    "    print((\"\\u274C Check the location of your .sqlite file again.\"))\n",
    "    \n",
    "if os.path.exists(student_path):\n",
    "    path_pts += 1\n",
    "    print((\"\\u2705 Nice work! You set your working directory correctly \"\n",
    "           \"and your file path exists!\"))\n",
    "else:\n",
    "    print((\"\\u274C Make sure you set your working directory to \"\n",
    "           \"~/earth-analytics/data.\"))\n",
    "    \n",
    "path_pts"
   ]
  },
  {
   "cell_type": "markdown",
   "metadata": {
    "deletable": false,
    "editable": false,
    "nbgrader": {
     "cell_type": "markdown",
     "checksum": "ff84d4f66c388c8a4b1cb93070f4ed6d",
     "grade": false,
     "grade_id": "task-open-df",
     "locked": true,
     "points": 2,
     "schema_version": 3,
     "solution": false,
     "task": true
    }
   },
   "source": [
    "1. Open the `.sqlite` file using pandas `read_sql_query(\"SELECT * FROM table_name\", \"sqlite:///\" + pth)` and assign the output data to a variable (be sure the variable name is expressive!). \n",
    "\n",
    "2. **Replace table_name with the table name you found in the documentation above**\n",
    "\n",
    "3. At the end of the cell, call the variable like to ensure that the output prints in your notebook. The last line of your cell should look something like this:\n",
    "\n",
    "    `data_frame_variable_name`\n",
    "    \n",
    "The code will look something like the example below (except your **variable names** will be more expressive, and you will include **descriptive comments**! Don't forget to also replace the path to the `.sqlite` file and the table name):\n",
    "\n",
    "```python\n",
    "# Comment here\n",
    "os.chdir(os.path.join(et.io.HOME, 'earth-analytics', 'data'))\n",
    "\n",
    "# Comment here\n",
    "pth = os.path.join(\"earthpy-downloads\", \"path\", \"to\", \"downloaded.sqlite\")\n",
    "\n",
    "# Comment here\n",
    "df = pd.read_sql_query(\n",
    "    \"SELECT * FROM table_name\", \n",
    "    \"sqlite:///\" + pth)\n",
    "df\n",
    "```\n",
    "\n",
    "**IMPORTANT: At the end of your cell below be sure to call the name of your path variable\n",
    "so that the path prints in your notebook. If you don't do this, the test below\n",
    "will fail.**\n",
    "\n",
    "Make sure to follow the PEP 8 standard and add descriptive comments.\n"
   ]
  },
  {
   "cell_type": "code",
   "execution_count": null,
   "metadata": {
    "deletable": false,
    "nbgrader": {
     "cell_type": "code",
     "checksum": "93f4a4692429a076104ccd1967993a90",
     "grade": false,
     "grade_id": "student-read",
     "locked": false,
     "schema_version": 3,
     "solution": true,
     "task": false
    }
   },
   "outputs": [],
   "source": [
    "# YOUR CODE HERE\n",
    "raise NotImplementedError()"
   ]
  },
  {
   "cell_type": "code",
   "execution_count": null,
   "metadata": {
    "deletable": false,
    "editable": false,
    "nbgrader": {
     "cell_type": "code",
     "checksum": "93c0f0f8d090fc63e68c0a7a2b88ed6c",
     "grade": true,
     "grade_id": "tests-read",
     "locked": true,
     "points": 4,
     "schema_version": 3,
     "solution": false,
     "task": false
    }
   },
   "outputs": [],
   "source": [
    "# DO NOT MODIFY THIS CELL\n",
    "\n",
    "student_data = _\n",
    "\n",
    "# Creating total points\n",
    "dataframe_answer_points = 0\n",
    "\n",
    "# Correct answers for headings\n",
    "column_names_ans = [\n",
    "    'FOD_ID', 'FPA_ID', 'SOURCE_SYSTEM_TYPE', 'SOURCE_SYSTEM',\n",
    "    'NWCG_REPORTING_AGENCY', 'NWCG_REPORTING_UNIT_ID',\n",
    "    'NWCG_REPORTING_UNIT_NAME', 'SOURCE_REPORTING_UNIT',\n",
    "    'SOURCE_REPORTING_UNIT_NAME', 'LOCAL_FIRE_REPORT_ID',\n",
    "    'LOCAL_INCIDENT_ID', 'FIRE_CODE', 'FIRE_NAME',\n",
    "    'ICS_209_PLUS_INCIDENT_JOIN_ID', 'ICS_209_PLUS_COMPLEX_JOIN_ID',\n",
    "    'MTBS_ID', 'MTBS_FIRE_NAME', 'COMPLEX_NAME', 'FIRE_YEAR',\n",
    "    'DISCOVERY_DATE', 'DISCOVERY_DOY', 'DISCOVERY_TIME',\n",
    "    'NWCG_CAUSE_CLASSIFICATION', 'NWCG_GENERAL_CAUSE',\n",
    "    'NWCG_CAUSE_AGE_CATEGORY', 'CONT_DATE', 'CONT_DOY', 'CONT_TIME',\n",
    "    'FIRE_SIZE', 'FIRE_SIZE_CLASS', 'LATITUDE', 'LONGITUDE', 'OWNER_DESCR',\n",
    "    'STATE', 'COUNTY', 'FIPS_CODE', 'FIPS_NAME']\n",
    "\n",
    "# Test that it's of type dataframe\n",
    "if type(student_data) == pd.DataFrame:\n",
    "    print(\"\\u2705 Data was opened with a Pandas DataFrame, good job!\")\n",
    "    dataframe_answer_points += 2\n",
    "else:\n",
    "    print((\"\\u274C Data is not stored in a Pandas DataFrame, make sure you \"\n",
    "           \"use the Pandas module to import the data and that you added the \"\n",
    "           \"dataframe variable as the last object in the cell above.\"))\n",
    "\n",
    "try:\n",
    "    # Headings and columns should be all correct\n",
    "    column_names = student_data.columns.tolist()\n",
    "    if sorted(column_names) == sorted(column_names_ans):\n",
    "        print(\"\\u2705 Columns have the correct heading names, good job!\")\n",
    "        dataframe_answer_points += 2\n",
    "    else:\n",
    "        print(\"\\u274C Columns do not have the correct heading names.\")\n",
    "except AttributeError:\n",
    "    print((\"\\u274C Cannot continue testing until data has been opened \"\n",
    "           \"in a Pandas Dataframe\"))\n",
    "\n",
    "print(\"You recieved {} out of 4 points for creating a dataframe\".format(\n",
    "    dataframe_answer_points))\n",
    "dataframe_answer_points"
   ]
  },
  {
   "cell_type": "markdown",
   "metadata": {
    "deletable": false,
    "editable": false,
    "nbgrader": {
     "cell_type": "markdown",
     "checksum": "e834ecab57c8d0b0f639e096cf04ba04",
     "grade": false,
     "grade_id": "task-caching",
     "locked": true,
     "points": 3,
     "schema_version": 3,
     "solution": false,
     "task": true
    }
   },
   "source": [
    "You might have noticed that that step took some time. At 2 millYou're not working with **big data** (yet!), but it's enough to cause a noticeable pause on most computers. We might call it **medium-sized data**.\n",
    "\n",
    "Practice efficient memory management so that you can run the whole notebook without having to wait on this cell each time. Go back to the previous cell, and put the `read_sql_query` function call inside a **conditional**, making sure to replace `dataframe_name` with your DataFrame variable name. To test if the dataframe variable has been created already, you can use the `globals()` function in Python, which contains all the global variables. (for right now, we don't have any other type of variables):\n",
    "\n",
    "```python\n",
    "if not 'dataframe_name' in globals():\n",
    "    dataframe_name = pd.read_sql_query(\n",
    "        ...\n",
    "```\n",
    "\n",
    "Your cell should now run instantaneously once the database has been converted to a DataFrame the first time. You can try both ways by restarting the kernel.\n",
    "\n",
    "BONUS: Computers have both memory and disk space. Memory is much faster and  you need to have data in memory to perform computation on it. The `.sqlite` file is on disk, where it persists even when the computer is off. In general you don't want to load data into memory that you aren't going to use. We could make this workflow even more efficient by changing the SQL query we used to only import the columns we want, which contain an ID, size, and year of each fire. If you have some experience with databases, give it a try!"
   ]
  },
  {
   "cell_type": "markdown",
   "metadata": {
    "deletable": false,
    "editable": false,
    "nbgrader": {
     "cell_type": "markdown",
     "checksum": "4ff393ce75f2e6fc88236c7a31875e43",
     "grade": false,
     "grade_id": "task-agg",
     "locked": true,
     "points": 2,
     "schema_version": 3,
     "solution": false,
     "task": true
    }
   },
   "source": [
    "### Filter Data\n",
    "\n",
    "You may have noticed it takes Python some time to work with the current fire DataFrame. One way to help with this is to **aggregate** the data so you only have the values you need. In this case, you want the mean size and total number of fires in California **for each year**.\n",
    "\n",
    "1. Start by selecting only California fires.\n",
    "    `fire_df['state_column_name'=='CA']\n",
    "\n",
    "2. Start by **grouping** the DataFrame by year, because we want a single value for each year. Replace `year_column_name` with the actual column name for the year data, and replace `dataframe_name` with your the DataFrame you made above. (HINT: you can see all the column names on the metadata page OR by accessing the columns attribute of the DataFrame, e.g. `dataframe_name.columns`.:\n",
    "\n",
    "    `dataframe_name.groupby('year_column_name')`\n",
    "    \n",
    "2. Next, aggregate the data to count the unique fires and take the mean of the fire size. This function will count then number of fires each year and compute the mean size. You will need to find the correct column names to replace `id_column_name` and `size_column_name`. Note: Pandas functions are intended to be strung together (also known as **piping**) by placing the following immediately after the closing parenthesis of `groupby`:\n",
    "    \n",
    "    `.agg(total_fires=('id_column_name', count), mean_size_acres='size_column_name': mean}))`\n",
    "    \n",
    "**IMPORTANT: At the end of your cell below be sure to call the name of your path variable\n",
    "so that the path prints in your notebook. If you don't do this, the test below\n",
    "will fail.**\n",
    "\n",
    "Make sure to follow the PEP 8 standard and add descriptive comments.\n"
   ]
  },
  {
   "cell_type": "code",
   "execution_count": null,
   "metadata": {
    "deletable": false,
    "nbgrader": {
     "cell_type": "code",
     "checksum": "ae01b365ce2dae80f964a63f7972a40d",
     "grade": false,
     "grade_id": "ans-agg",
     "locked": false,
     "schema_version": 3,
     "solution": true,
     "task": false
    }
   },
   "outputs": [],
   "source": [
    "# YOUR CODE HERE\n",
    "raise NotImplementedError()"
   ]
  },
  {
   "cell_type": "code",
   "execution_count": null,
   "metadata": {
    "deletable": false,
    "editable": false,
    "nbgrader": {
     "cell_type": "code",
     "checksum": "bcebc9b44916355285fd15804ab63a20",
     "grade": true,
     "grade_id": "tests-agg",
     "locked": true,
     "points": 8,
     "schema_version": 3,
     "solution": false,
     "task": false
    }
   },
   "outputs": [],
   "source": [
    "student_df = _\n",
    "df_by_year_pts = 0\n",
    "\n",
    "\n",
    "sum_ans = [194426.0, 1853.0]\n",
    "columns_ans = ['total_fires', 'mean_size_acres']\n",
    "\n",
    "if isinstance(student_df, pd.DataFrame):\n",
    "    df_by_year_pts += 1\n",
    "    print(\"\\u2705 Nice work! You returned a DataFrame!\")\n",
    "else:\n",
    "    print((\"\\u274C Make sure that you called your DataFrame on the last \"\n",
    "           \"line of the cell above.\"))\n",
    "\n",
    "if sorted(student_df.columns.tolist())==sorted(columns_ans):\n",
    "    df_by_year_pts += 2\n",
    "    print(\"\\u2705 Nice work! Your DataFrame has the correct column names!\")\n",
    "else:\n",
    "    print((\"\\u274C Make sure that you renamed your column names.\"))\n",
    "              \n",
    "if sorted([round(sum, 0) for sum in student_df.sum()])==sorted(sum_ans):\n",
    "    df_by_year_pts += 5\n",
    "    print((\"\\u2705 Nice work! Your DataFrame has the correct values!\"))\n",
    "else:\n",
    "    print((\"\\u274C Check your aggregate function - your DataFrame does \"\n",
    "           \"not have correct values.\"))\n",
    "    \n",
    "df_by_year_pts"
   ]
  },
  {
   "cell_type": "markdown",
   "metadata": {
    "deletable": false,
    "editable": false,
    "nbgrader": {
     "cell_type": "markdown",
     "checksum": "d315a4a200112820c08b4a290be9545f",
     "grade": false,
     "grade_id": "cell-eee5b3c3d5a8bcaf",
     "locked": true,
     "schema_version": 3,
     "solution": false,
     "task": false
    }
   },
   "source": [
    "<img style=\"float: left;\" src=\"colored-bar.png\"/>"
   ]
  },
  {
   "cell_type": "markdown",
   "metadata": {
    "deletable": false,
    "editable": false,
    "nbgrader": {
     "cell_type": "markdown",
     "checksum": "ac2797ebe3e3ece6aacfe04144a3ad85",
     "grade": false,
     "grade_id": "task-bar-plot",
     "locked": true,
     "points": 15,
     "schema_version": 3,
     "solution": false,
     "task": true
    }
   },
   "source": [
    "## Create a Bar Plot of Total Fires\n",
    "\n",
    "Create a plot with total fires on the y-axis and year on the x-axis. \n",
    "\n",
    "There are several ways to create a bar plot using Python.\n",
    "Below, create a bar plot using the following approach:\n",
    "\n",
    "```\n",
    "name_of_df.plot.bar(y='total_fires')\n",
    "```\n",
    "Modify the plot as follows:\n",
    "\n",
    "* Add a **title, x and y label** using the xlabel, ylabel, and title arguments of the `.bar()` method. \n",
    "* Change the **color** of the bars on the plot using `color`\n",
    "* Change the **edgecolor** of the bars on the plot using `edgecolor`\n",
    "* Remove the default **legend** since you have named the y-axis already using `legend`\n",
    "* Change the **figure size** using `figsize` so that the plot is easy to read. Bear in mind both the font size and the aspect ratio of the figure.\n"
   ]
  },
  {
   "cell_type": "code",
   "execution_count": null,
   "metadata": {
    "deletable": false,
    "nbgrader": {
     "cell_type": "code",
     "checksum": "0fa0ef9bb743e5cbe3749c4da0765a11",
     "grade": false,
     "grade_id": "ans-bar-plot",
     "locked": false,
     "schema_version": 3,
     "solution": true,
     "task": false
    }
   },
   "outputs": [],
   "source": [
    "# YOUR CODE HERE\n",
    "raise NotImplementedError()"
   ]
  },
  {
   "cell_type": "markdown",
   "metadata": {
    "deletable": false,
    "editable": false,
    "nbgrader": {
     "cell_type": "markdown",
     "checksum": "987720ba77a593ddd811e0edfb43ad98",
     "grade": false,
     "grade_id": "cell-12825aa50ab46983",
     "locked": true,
     "schema_version": 3,
     "solution": false,
     "task": false
    }
   },
   "source": [
    "<img style=\"float: left;\" src=\"colored-bar.png\"/>"
   ]
  },
  {
   "cell_type": "markdown",
   "metadata": {
    "deletable": false,
    "editable": false,
    "nbgrader": {
     "cell_type": "markdown",
     "checksum": "c9e0579f56590eb7ecff0ebabc322c33",
     "grade": false,
     "grade_id": "question-create-mean-fire-size",
     "locked": true,
     "points": 3,
     "schema_version": 3,
     "solution": false,
     "task": true
    }
   },
   "source": [
    "## Create a Column Containing Mean Fire Size in Hectares\n",
    "\n",
    "Above, you imported some data which contains a column for mean \n",
    "fire size in acres. For your analysis, you want the data to be in hectares. Do the following\n",
    "\n",
    "1. Write a function called `acre_to_hectare` that converts from acres to hectares\n",
    "\n",
    "HINT: `1 acre = 0.404686 hectares`\n",
    "\n",
    "2. Apply your function to the `mean_size_acres` column:\n",
    "    `dataframe_name.existing_column_name.apply(function_name)`\n",
    "\n",
    "2. You can create a new column in a pandas data frame using the following syntax:\n",
    "\n",
    "`df[\"new_col_name\"] = dataframe_name.existing_column_name.apply(function_name)\n",
    "\n",
    "Create a new column called `mean_size_hectares` in your data frame that contains the mean fire size values converted to hectares.\n",
    "\n",
    "****\n",
    "    \n",
    "**IMPORTANT: At the end of your cell below be sure to call the name of your dataframe\n",
    "so that the dataframe prints in your notebook. If you don't do this, the test below\n",
    "will fail.**\n",
    "\n",
    "Make sure to follow the PEP 8 standard, add descriptive comments, and document your function.\n"
   ]
  },
  {
   "cell_type": "code",
   "execution_count": null,
   "metadata": {
    "deletable": false,
    "nbgrader": {
     "cell_type": "code",
     "checksum": "2f49125680b9e25e31c0b1eab7abdd28",
     "grade": false,
     "grade_id": "student-create-list-mean-fire-size-answer",
     "locked": false,
     "schema_version": 3,
     "solution": true,
     "task": false
    }
   },
   "outputs": [],
   "source": [
    "# YOUR CODE HERE\n",
    "raise NotImplementedError()"
   ]
  },
  {
   "cell_type": "code",
   "execution_count": null,
   "metadata": {
    "deletable": false,
    "editable": false,
    "nbgrader": {
     "cell_type": "code",
     "checksum": "b3eb81839c19415a8ad3ebaee8d429be",
     "grade": true,
     "grade_id": "cell-e51c3234899611b8",
     "locked": true,
     "points": 6,
     "schema_version": 3,
     "solution": false,
     "task": false
    }
   },
   "outputs": [],
   "source": [
    "student_data_2 = _\n",
    "sum_ans = 749.9\n",
    "dataframe_2_answer_points = 0\n",
    "\n",
    "# Test that the new column is present\n",
    "if \"mean_size_hectares\" in student_data_2.columns.tolist():\n",
    "    print((\"\\u2705 Great - you have added the mean_size_hectares_column.\"))\n",
    "    dataframe_2_answer_points += 3\n",
    "else:\n",
    "    print((\"\\u274C Oops - you should have a column called mean_size_hectares \"\n",
    "           \"in your data frame. Make sure you added and named the \"\n",
    "           \"column correctly.\"))\n",
    "\n",
    "# Test that the new column has the correct values\n",
    "if round(student_data_2.mean_size_hectares.sum(), 1) == sum_ans:\n",
    "    print((\"\\u2705 Great - you correctly converted to hectares.\"))\n",
    "    dataframe_2_answer_points += 3\n",
    "else:\n",
    "    print((\"\\u274C Oops - your converted values are not correct.\"))\n",
    "\n",
    "# Report out\n",
    "print('You earned {} / 6 points for adding a column.'.format(\n",
    "    dataframe_2_answer_points))\n",
    "\n",
    "dataframe_2_answer_points"
   ]
  },
  {
   "cell_type": "markdown",
   "metadata": {
    "deletable": false,
    "editable": false,
    "nbgrader": {
     "cell_type": "markdown",
     "checksum": "32a93af268c4aa6dbe2c07f049b27d6a",
     "grade": false,
     "grade_id": "question-plot",
     "locked": true,
     "points": 13,
     "schema_version": 3,
     "solution": false,
     "task": true
    }
   },
   "source": [
    "## Create A Figure with Subplots\n",
    "\n",
    "In the cell below create a Figure that contains\n",
    "two subplots:\n",
    "\n",
    "* Plot 1: Create a plot that shows total number of fires by year\n",
    "* Plot 2: Create a plot that shows the mean fire size in hectares by year\n",
    "\n",
    "You will need to create the subplot layout first, using the following syntax:\n",
    "    `fig, (ax1, ax2) = plt.subplots(2, 1, figsize=(12, 12))`\n",
    "    \n",
    "Assign `ax1` and `ax2` to your plots using the `ax=ax1` argument of the plotting method you chose.\n",
    "\n",
    "For each plot do the following:\n",
    "\n",
    "* Modify the default plot colors\n",
    "* Add a title, and x and y axis labels\n",
    "\n",
    "For the figure:\n",
    "* Add an **overall title** for the entire figure\n",
    "\n",
    "When adding your titles and labels, think about the following pieces of information that could help someone easily interpret the plot:\n",
    "* geographic coverage or extent of data.\n",
    "* duration or temporal extent of the data.\n",
    "* what was actually measured and/or represented by the data.\n",
    "* units of measurement.\n",
    "****\n",
    "\n",
    "Make sure to follow the PEP 8 standard and add descriptive comments.\n"
   ]
  },
  {
   "cell_type": "code",
   "execution_count": null,
   "metadata": {
    "deletable": false,
    "nbgrader": {
     "cell_type": "code",
     "checksum": "8815030a5cd24c1ff9cf5c7faf96a958",
     "grade": false,
     "grade_id": "student-create-plot-1-answer",
     "locked": false,
     "schema_version": 3,
     "solution": true,
     "task": false
    }
   },
   "outputs": [],
   "source": [
    "# YOUR CODE HERE\n",
    "raise NotImplementedError()"
   ]
  },
  {
   "cell_type": "markdown",
   "metadata": {
    "deletable": false,
    "editable": false,
    "nbgrader": {
     "cell_type": "markdown",
     "checksum": "8d1d50f739270f206865f8c7d48a719a",
     "grade": false,
     "grade_id": "question-explain-plot",
     "locked": true,
     "points": 10,
     "schema_version": 3,
     "solution": false,
     "task": true
    }
   },
   "source": [
    "## Explain Your Plot\n",
    "\n",
    "In the Markdown cell below, write an assertion-evidence style takeaway (formatted as a heading)\n",
    "\n",
    "Next, answer the following questions about your plot using a **bullet list**.\n",
    "\n",
    "1. Do either the yearly total number of fires or average size of fires appear to be increasing over time in California? Explain your answer using the patterns that you see in the plotplot. Do some research about fire size and occurrence to help answer this question.\n",
    "\n",
    "2. Include at least one citation supporting your answer.\n",
    "\n",
    "3. What additional data might help you to better answer the first question about whether number of fires or average fire size appear to increasing? (It could help to take a look at the information about the original dataset from <a href=\"https://www.fs.usda.gov/rds/archive/Catalog/RDS-2013-0009.5\" target=\"_blank\">the United States Forest Service</a>.)\n",
    "\n",
    "Remove any existing text in the cell below before adding your answer.\n"
   ]
  },
  {
   "cell_type": "markdown",
   "metadata": {},
   "source": [
    "YOUR ANSWER HERE"
   ]
  },
  {
   "cell_type": "markdown",
   "metadata": {
    "deletable": false,
    "editable": false,
    "nbgrader": {
     "cell_type": "markdown",
     "checksum": "b6e1cac74e21f1ad5e269e3b15eec073",
     "grade": false,
     "grade_id": "question-explain-pep-8",
     "locked": true,
     "points": 10,
     "schema_version": 3,
     "solution": false,
     "task": true
    }
   },
   "source": [
    "## Discuss Your Workflow\n",
    "\n",
    "In the Markdown cell below, answer the following questions using a **numbered list**:\n",
    "\n",
    "1. Consider the variable name that you used for your pandas dataframe. Explain why it is expressive (or not).\n",
    "2. In your final plot, why did you choose the type of plot (e.g. bar, scatter, line) that you did?\n",
    "3. In your final plot, why did you choose the color combinations you did for your plots.\n",
    "\n",
    "Remove any existing text in the cell below before adding your answer.\n"
   ]
  },
  {
   "cell_type": "markdown",
   "metadata": {},
   "source": [
    "YOUR ANSWER HERE"
   ]
  }
 ],
 "metadata": {
  "kernelspec": {
   "display_name": "Python 3 (ipykernel)",
   "language": "python",
   "name": "python3"
  },
  "language_info": {
   "codemirror_mode": {
    "name": "ipython",
    "version": 3
   },
   "file_extension": ".py",
   "mimetype": "text/x-python",
   "name": "python",
   "nbconvert_exporter": "python",
   "pygments_lexer": "ipython3",
   "version": "3.8.12"
  },
  "toc": {
   "base_numbering": 1,
   "nav_menu": {},
   "number_sections": true,
   "sideBar": true,
   "skip_h1_title": true,
   "title_cell": "Table of Contents",
   "title_sidebar": "Contents",
   "toc_cell": false,
   "toc_position": {},
   "toc_section_display": true,
   "toc_window_display": true
  },
  "varInspector": {
   "cols": {
    "lenName": 16,
    "lenType": 16,
    "lenVar": 40
   },
   "kernels_config": {
    "python": {
     "delete_cmd_postfix": "",
     "delete_cmd_prefix": "del ",
     "library": "var_list.py",
     "varRefreshCmd": "print(var_dic_list())"
    },
    "r": {
     "delete_cmd_postfix": ") ",
     "delete_cmd_prefix": "rm(",
     "library": "var_list.r",
     "varRefreshCmd": "cat(var_dic_list()) "
    }
   },
   "types_to_exclude": [
    "module",
    "function",
    "builtin_function_or_method",
    "instance",
    "_Feature"
   ],
   "window_display": false
  }
 },
 "nbformat": 4,
 "nbformat_minor": 2
}
